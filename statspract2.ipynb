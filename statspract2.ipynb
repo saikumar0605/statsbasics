{
 "cells": [
  {
   "cell_type": "markdown",
   "id": "424516a1",
   "metadata": {},
   "source": [
    "Suppose the IQ in a certian population  is normally distrbuted with a mean of MU(µ) = 100 and SD of σ = 15\n",
    "\n",
    "A researcher wants to Know if a new drug affects IQ levels, so he recruits 20 patients to try it and records their IQ levels.\n",
    "\n",
    "The following code shows how to perform a one sample Z-test in python to determine if the new drug causes a significant difference in IQ levels."
   ]
  },
  {
   "cell_type": "code",
   "execution_count": 8,
   "id": "7b30ce69",
   "metadata": {},
   "outputs": [],
   "source": [
    "from statsmodels.stats.weightstats import ztest as ztest\n",
    "\n",
    "# enter IQ levels for 20 patients.\n",
    "data = [88, 92, 94, 94, 96, 97, 97, 97, 99, 99, 105, 109, 109, 109, 110, 112, 112, 113, 114, 115]"
   ]
  },
  {
   "cell_type": "code",
   "execution_count": 9,
   "id": "3d61f42a",
   "metadata": {},
   "outputs": [
    {
     "data": {
      "text/plain": [
       "(1.5976240527147705, 0.1101266701438426)"
      ]
     },
     "execution_count": 9,
     "metadata": {},
     "output_type": "execute_result"
    }
   ],
   "source": [
    "ztest(data,value = 100)\n",
    "#first value output is z-test, 2 is P-value.\n",
    "# first value is actual z-test value. 2 is to just for comparing the p-value and reject or accept H0 ."
   ]
  },
  {
   "cell_type": "markdown",
   "id": "03df659a",
   "metadata": {},
   "source": [
    "here 0.11 > then 0.05 so we reject h0\n",
    "\n",
    "\n",
    "if pm val is less then signeficance value we reject the H0."
   ]
  },
  {
   "cell_type": "code",
   "execution_count": null,
   "id": "748ed477",
   "metadata": {},
   "outputs": [],
   "source": []
  }
 ],
 "metadata": {
  "kernelspec": {
   "display_name": "Python 3 (ipykernel)",
   "language": "python",
   "name": "python3"
  },
  "language_info": {
   "codemirror_mode": {
    "name": "ipython",
    "version": 3
   },
   "file_extension": ".py",
   "mimetype": "text/x-python",
   "name": "python",
   "nbconvert_exporter": "python",
   "pygments_lexer": "ipython3",
   "version": "3.9.12"
  }
 },
 "nbformat": 4,
 "nbformat_minor": 5
}
